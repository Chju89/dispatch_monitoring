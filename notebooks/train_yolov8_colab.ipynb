{
 "cells": [
  {
   "cell_type": "markdown",
   "id": "b7f2df7a",
   "metadata": {},
   "source": [
    "# 🧠 YOLOv8 Training on Colab"
   ]
  },
  {
   "cell_type": "code",
   "execution_count": null,
   "id": "f7676314",
   "metadata": {},
   "outputs": [],
   "source": [
    "# Cài đặt YOLOv8\n",
    "!pip install ultralytics==8.2.5\n"
   ]
  },
  {
   "cell_type": "code",
   "execution_count": null,
   "id": "186d43d0",
   "metadata": {},
   "outputs": [],
   "source": [
    "# Mount Google Drive nếu cần\n",
    "from google.colab import drive\n",
    "drive.mount('/content/drive')\n"
   ]
  },
  {
   "cell_type": "code",
   "execution_count": null,
   "id": "5de52c19",
   "metadata": {},
   "outputs": [],
   "source": [
    "# Huấn luyện YOLOv8 và log vào MLflow\n",
    "from ultralytics import YOLO\n",
    "import mlflow\n",
    "\n",
    "mlflow.set_tracking_uri(\"http://localhost:5000\")  # hoặc ngrok URI nếu dùng từ Colab\n",
    "mlflow.set_experiment(\"dispatch-pipeline\")\n",
    "\n",
    "with mlflow.start_run(run_name=\"yolov8_detection_v1\"):\n",
    "    model = YOLO(\"yolov8n.pt\")\n",
    "    results = model.train(\n",
    "        data=\"/content/drive/MyDrive/dispatch/data/raw/Dataset/Detection/dataset.yaml\",\n",
    "        epochs=50,\n",
    "        imgsz=320,\n",
    "        batch=16,\n",
    "        patience=10,\n",
    "        device=0,\n",
    "        name=\"yolov8n_dispatch_colab\"\n",
    "    )\n",
    "    mlflow.log_params({\n",
    "        \"model\": \"yolov8n\", \"epochs\": 50, \"imgsz\": 320, \"batch\": 16\n",
    "    })\n",
    "    mlflow.log_artifacts(\"runs/detect/yolov8n_dispatch_colab\", artifact_path=\"detect_artifacts\")\n"
   ]
  }
 ],
 "metadata": {},
 "nbformat": 4,
 "nbformat_minor": 5
}
