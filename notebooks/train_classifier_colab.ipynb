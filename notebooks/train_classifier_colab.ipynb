{
 "cells": [
  {
   "cell_type": "markdown",
   "id": "9ebc914e",
   "metadata": {},
   "source": [
    "# 🧠 ResNet18 Classification Training on Colab (6 classes)"
   ]
  },
  {
   "cell_type": "code",
   "execution_count": null,
   "id": "0cc66f80",
   "metadata": {},
   "outputs": [],
   "source": [
    "!pip install mlflow torchvision\n"
   ]
  },
  {
   "cell_type": "code",
   "execution_count": null,
   "id": "7f1c214a",
   "metadata": {},
   "outputs": [],
   "source": [
    "import mlflow, torch, glob, os\n",
    "from torch import nn, optim\n",
    "from torchvision import models, transforms\n",
    "from torch.utils.data import Dataset, DataLoader\n",
    "from PIL import Image\n",
    "\n",
    "mlflow.set_tracking_uri(\"http://localhost:5000\")\n",
    "mlflow.set_experiment(\"dispatch-pipeline\")\n",
    "\n",
    "device = torch.device(\"cuda\" if torch.cuda.is_available() else \"cpu\")\n"
   ]
  },
  {
   "cell_type": "code",
   "execution_count": null,
   "id": "7feca53e",
   "metadata": {},
   "outputs": [],
   "source": [
    "# Dataset với 6 class: dish/tray + empty/not_empty/kakigori\n",
    "class SixClassDataset(Dataset):\n",
    "    def __init__(self, root, transform=None):\n",
    "        self.files = glob.glob(f\"{root}/*/*/*.jpg\")\n",
    "        self.label_map = {\n",
    "            \"dish/empty\": 0, \"dish/not_empty\": 1, \"dish/kakigori\": 2,\n",
    "            \"tray/empty\": 3, \"tray/not_empty\": 4, \"tray/kakigori\": 5\n",
    "        }\n",
    "        self.transform = transform\n",
    "\n",
    "    def __getitem__(self, idx):\n",
    "        path = self.files[idx]\n",
    "        parts = path.split(\"/\")[-3:-1]\n",
    "        label = self.label_map[\"/\".join(parts)]\n",
    "        image = Image.open(path).convert(\"RGB\")\n",
    "        if self.transform: image = self.transform(image)\n",
    "        return image, label\n",
    "\n",
    "    def __len__(self): return len(self.files)\n"
   ]
  },
  {
   "cell_type": "code",
   "execution_count": null,
   "id": "e0d33aa9",
   "metadata": {},
   "outputs": [],
   "source": [
    "transform = transforms.Compose([\n",
    "    transforms.Resize((128, 128)),\n",
    "    transforms.ToTensor()\n",
    "])\n",
    "dataset = SixClassDataset(\"/content/drive/MyDrive/dispatch/data/raw/Dataset/Classification\", transform)\n",
    "loader = DataLoader(dataset, batch_size=32, shuffle=True)\n"
   ]
  },
  {
   "cell_type": "code",
   "execution_count": null,
   "id": "bb6c3251",
   "metadata": {},
   "outputs": [],
   "source": [
    "# Train ResNet18 và log vào MLflow\n",
    "model = models.resnet18(pretrained=True)\n",
    "model.fc = nn.Linear(model.fc.in_features, 6)\n",
    "model = model.to(device)\n",
    "optimizer = optim.Adam(model.parameters(), lr=1e-3)\n",
    "criterion = nn.CrossEntropyLoss()\n",
    "\n",
    "with mlflow.start_run(run_name=\"resnet18_classifier_v1\"):\n",
    "    mlflow.log_params({\"model\": \"resnet18\", \"classes\": 6, \"epochs\": 5, \"lr\": 1e-3})\n",
    "    for epoch in range(5):\n",
    "        model.train()\n",
    "        total_loss, correct, total = 0, 0, 0\n",
    "        for x, y in loader:\n",
    "            x, y = x.to(device), y.to(device)\n",
    "            optimizer.zero_grad()\n",
    "            out = model(x)\n",
    "            loss = criterion(out, y)\n",
    "            loss.backward()\n",
    "            optimizer.step()\n",
    "            total_loss += loss.item()\n",
    "            correct += (out.argmax(1) == y).sum().item()\n",
    "            total += y.size(0)\n",
    "        acc = correct / total\n",
    "        mlflow.log_metric(\"loss\", total_loss, step=epoch)\n",
    "        mlflow.log_metric(\"accuracy\", acc, step=epoch)\n",
    "\n",
    "    torch.save(model.state_dict(), \"resnet18_dispatch.pt\")\n",
    "    mlflow.log_artifact(\"resnet18_dispatch.pt\")\n"
   ]
  }
 ],
 "metadata": {},
 "nbformat": 4,
 "nbformat_minor": 5
}
